{
 "cells": [
  {
   "cell_type": "code",
   "execution_count": 2,
   "metadata": {},
   "outputs": [],
   "source": [
    "import numpy as np\n",
    "from neuromaps import datasets, images, parcellate\n",
    "\n",
    "\n",
    "def get_lr_intersections(gifti, gifti_relabeled):\n",
    "    \"\"\"get the indices of regions that cross both L-R hemispheres.\"\"\"\n",
    "    hemi_intersection = np.intersect1d(gifti[0].agg_data(), gifti[1].agg_data())\n",
    "    l_mask = np.isin(gifti[0].agg_data(), hemi_intersection)\n",
    "    r_mask = np.isin(gifti[1].agg_data(), hemi_intersection)\n",
    "    l_idx = np.unique(gifti_relabeled[0].agg_data()[l_mask])\n",
    "    r_idx = np.unique(gifti_relabeled[1].agg_data()[r_mask])\n",
    "    return l_idx[1:] - 1, r_idx[1:] - 1  # ?? ignore 0 label and reindex to start at 0 ??\n",
    "\n",
    "\n",
    "# cifti ICA parcellation file\n",
    "dlabel = \"./data/nregions-300_cifti.dlabel.nii\"\n",
    "\n",
    "# cifti to surface removes volumetric data: 300 -> 106 regions\n",
    "gifti = images.dlabel_to_gifti(dlabel)\n",
    "\n",
    "# make label IDs consecutive across hemispheres: 106 -> 178 regions\n",
    "gifti_relabeled = images.relabel_gifti(gifti)\n",
    "\n",
    "# get intersections of gifti_relabeled: 72 regions\n",
    "l_idx, r_idx = get_lr_intersections(gifti, gifti_relabeled)\n",
    "\n",
    "# initialize parcellator\n",
    "parc = parcellate.Parcellater(gifti_relabeled, \"fsLR\")\n",
    "\n",
    "# extract T1w/T2w ratio defined by ICA parcellation\n",
    "t1t2_map = datasets.fetch_annotation(source=\"hcps1200\", desc=\"myelinmap\", space=\"fsLR\", den=\"32k\")\n",
    "t1t2_lr_split = parc.fit_transform(t1t2_map, \"fsLR\")  # (178, ): 88L <-> 90R\n",
    "\n",
    "# average regions that cross both L-R hemispheres\n",
    "t1t2_lr_avg = np.zeros(106)\n",
    "t1t2_lr_avg[l_idx] = (t1t2_lr_split[l_idx] + t1t2_lr_split[r_idx]) / 2\n",
    "zero_idx = np.where(t1t2_lr_avg == 0)[0]\n",
    "t1t2_lr_avg[zero_idx] = t1t2_lr_split[zero_idx]\n"
   ]
  }
 ],
 "metadata": {
  "kernelspec": {
   "display_name": "fmri-timescales",
   "language": "python",
   "name": "python3"
  },
  "language_info": {
   "codemirror_mode": {
    "name": "ipython",
    "version": 3
   },
   "file_extension": ".py",
   "mimetype": "text/x-python",
   "name": "python",
   "nbconvert_exporter": "python",
   "pygments_lexer": "ipython3",
   "version": "3.11.3"
  },
  "orig_nbformat": 4
 },
 "nbformat": 4,
 "nbformat_minor": 2
}
