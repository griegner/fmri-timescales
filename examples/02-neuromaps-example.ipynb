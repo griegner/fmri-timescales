{
 "cells": [
  {
   "cell_type": "code",
   "execution_count": 1,
   "metadata": {},
   "outputs": [],
   "source": [
    "import nibabel as nib\n",
    "import numpy as np\n",
    "from neuromaps import datasets, images\n",
    "\n",
    "\n",
    "def cifti_to_surface(data, axis, surf_name):\n",
    "    \"\"\"select specified surface from CIFTI object\"\"\"\n",
    "    for name, idx, model in axis.iter_structures():  # volumetric & surface\n",
    "        if name == surf_name:\n",
    "            data = data.T[idx]\n",
    "            vertex_idx = model.vertex  # 1-N, except medial wall\n",
    "            surf_data = np.zeros((vertex_idx.max() + 1,) + data.shape[1:], dtype=data.dtype)\n",
    "            surf_data[vertex_idx] = data\n",
    "            return surf_data\n",
    "\n",
    "    raise ValueError(f\"no structure named {surf_name}\")\n",
    "\n",
    "\n",
    "annotation = datasets.fetch_annotation(\n",
    "    source=\"hcps1200\", desc=\"myelinmap\", space=\"fsLR\", den=\"32k\"\n",
    ")\n",
    "\n",
    "dlabel = \"/Volumes/griegner/hcp/HCP_PTN1200_recon2/groupICA/groupICA_3T_HCP1200_MSMAll_d300.ica/melodic_IC_ftb.dlabel.nii\"\n",
    "gifti = images.dlabel_to_gifti(dlabel)  # cifti to surface: removed volumetric data\n",
    "\n",
    "# test if dlabel_to_gifti() is removing volumetric *only* volumetric data\n",
    "cifti = nib.load(dlabel)\n",
    "annotation = cifti.get_fdata(dtype=np.float32)\n",
    "axis = cifti.header.get_axis(1)\n",
    "surface_l = cifti_to_surface(annotation, axis, \"CIFTI_STRUCTURE_CORTEX_LEFT\")\n",
    "surface_r = cifti_to_surface(annotation, axis, \"CIFTI_STRUCTURE_CORTEX_RIGHT\")\n",
    "\n",
    "assert np.array_equal(surface_l.flatten(), gifti[0].agg_data()), \"cortex left\"\n",
    "assert np.array_equal(surface_r.flatten(), gifti[1].agg_data()), \"cortex right\"\n"
   ]
  }
 ],
 "metadata": {
  "kernelspec": {
   "display_name": "fmri-timescales",
   "language": "python",
   "name": "python3"
  },
  "language_info": {
   "codemirror_mode": {
    "name": "ipython",
    "version": 3
   },
   "file_extension": ".py",
   "mimetype": "text/x-python",
   "name": "python",
   "nbconvert_exporter": "python",
   "pygments_lexer": "ipython3",
   "version": "3.11.3"
  },
  "orig_nbformat": 4
 },
 "nbformat": 4,
 "nbformat_minor": 2
}
